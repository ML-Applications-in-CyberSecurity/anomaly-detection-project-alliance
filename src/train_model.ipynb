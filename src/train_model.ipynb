{
 "cells": [
  {
   "cell_type": "markdown",
   "id": "c9cba8b9",
   "metadata": {},
   "source": [
    "### 🧩 Imports\n",
    "\n",
    "Import all the necessary libraries:\n",
    "- `json` for reading/writing JSON files.\n",
    "- `pandas` and `numpy` for data manipulation.\n",
    "- `random` for generating random synthetic data.\n",
    "- `IsolationForest` from `sklearn` for anomaly detection.\n",
    "- `joblib` for saving the trained model."
   ]
  },
  {
   "cell_type": "code",
   "execution_count": 7,
   "id": "a807fa48",
   "metadata": {
    "ExecuteTime": {
     "end_time": "2025-07-03T07:59:26.572065Z",
     "start_time": "2025-07-03T07:59:18.511696Z"
    }
   },
   "outputs": [],
   "source": [
    "import json\n",
    "import pandas as pd\n",
    "from sklearn.ensemble import IsolationForest\n",
    "import numpy as np\n",
    "import random\n",
    "import joblib\n",
    "import os"
   ]
  },
  {
   "cell_type": "markdown",
   "id": "66939a62",
   "metadata": {},
   "source": [
    "### 📊 Generate Dataset\n",
    "\n",
    "Create synthetic \"normal\" network traffic data to train an anomaly detection model. Each sample includes:\n",
    "\n",
    "- `src_port`: randomly selected from common service ports.\n",
    "- `dst_port`: a random high port number.\n",
    "- `packet_size`: typical packet sizes.\n",
    "- `duration_ms`: duration of the communication.\n",
    "- `protocol`: randomly selected between TCP and UDP.\n",
    "\n",
    "This data is saved to `training_data.json` for future use."
   ]
  },
  {
   "cell_type": "code",
   "execution_count": 8,
   "id": "d741c0de8bafea95",
   "metadata": {},
   "outputs": [
    {
     "name": "stdout",
     "output_type": "stream",
     "text": [
      "ds\n"
     ]
    }
   ],
   "source": [
    "print(\"ds\")"
   ]
  },
  {
   "cell_type": "code",
   "execution_count": 10,
   "id": "870cc066",
   "metadata": {
    "ExecuteTime": {
     "end_time": "2025-07-03T07:59:42.213728Z",
     "start_time": "2025-07-03T07:59:41.655600Z"
    }
   },
   "outputs": [],
   "source": [
    "COMMON_PORTS = [80, 443, 22, 8080]\n",
    "\n",
    "def generate_normal_data():\n",
    "    return {\n",
    "        \"src_port\": random.choice(COMMON_PORTS),\n",
    "        \"dst_port\": random.randint(1024, 65535),\n",
    "        \"packet_size\": random.randint(100, 1500),\n",
    "        \"duration_ms\": random.randint(50, 500),\n",
    "        \"protocol\": random.choice([\"TCP\", \"UDP\"])\n",
    "    }\n",
    "\n",
    "dataset = [generate_normal_data() for _ in range(1000)]\n",
    "\n",
    "os.makedirs(\"dataset\", exist_ok=True)\n",
    "with open(\"dataset/training_data.json\", \"w\") as f:\n",
    "    json.dump(dataset, f, indent=2)"
   ]
  },
  {
   "cell_type": "code",
   "execution_count": 11,
   "id": "1dd53134",
   "metadata": {
    "ExecuteTime": {
     "end_time": "2025-07-03T07:59:58.106998Z",
     "start_time": "2025-07-03T07:59:58.085173Z"
    }
   },
   "outputs": [
    {
     "data": {
      "text/html": [
       "<div>\n",
       "<style scoped>\n",
       "    .dataframe tbody tr th:only-of-type {\n",
       "        vertical-align: middle;\n",
       "    }\n",
       "\n",
       "    .dataframe tbody tr th {\n",
       "        vertical-align: top;\n",
       "    }\n",
       "\n",
       "    .dataframe thead th {\n",
       "        text-align: right;\n",
       "    }\n",
       "</style>\n",
       "<table border=\"1\" class=\"dataframe\">\n",
       "  <thead>\n",
       "    <tr style=\"text-align: right;\">\n",
       "      <th></th>\n",
       "      <th>src_port</th>\n",
       "      <th>dst_port</th>\n",
       "      <th>packet_size</th>\n",
       "      <th>duration_ms</th>\n",
       "      <th>protocol</th>\n",
       "    </tr>\n",
       "  </thead>\n",
       "  <tbody>\n",
       "    <tr>\n",
       "      <th>0</th>\n",
       "      <td>22</td>\n",
       "      <td>23328</td>\n",
       "      <td>1362</td>\n",
       "      <td>106</td>\n",
       "      <td>TCP</td>\n",
       "    </tr>\n",
       "    <tr>\n",
       "      <th>1</th>\n",
       "      <td>22</td>\n",
       "      <td>28080</td>\n",
       "      <td>1342</td>\n",
       "      <td>256</td>\n",
       "      <td>TCP</td>\n",
       "    </tr>\n",
       "    <tr>\n",
       "      <th>2</th>\n",
       "      <td>80</td>\n",
       "      <td>5104</td>\n",
       "      <td>1383</td>\n",
       "      <td>179</td>\n",
       "      <td>TCP</td>\n",
       "    </tr>\n",
       "    <tr>\n",
       "      <th>3</th>\n",
       "      <td>443</td>\n",
       "      <td>49468</td>\n",
       "      <td>712</td>\n",
       "      <td>418</td>\n",
       "      <td>UDP</td>\n",
       "    </tr>\n",
       "    <tr>\n",
       "      <th>4</th>\n",
       "      <td>443</td>\n",
       "      <td>22124</td>\n",
       "      <td>1072</td>\n",
       "      <td>217</td>\n",
       "      <td>TCP</td>\n",
       "    </tr>\n",
       "    <tr>\n",
       "      <th>...</th>\n",
       "      <td>...</td>\n",
       "      <td>...</td>\n",
       "      <td>...</td>\n",
       "      <td>...</td>\n",
       "      <td>...</td>\n",
       "    </tr>\n",
       "    <tr>\n",
       "      <th>995</th>\n",
       "      <td>80</td>\n",
       "      <td>39529</td>\n",
       "      <td>856</td>\n",
       "      <td>332</td>\n",
       "      <td>TCP</td>\n",
       "    </tr>\n",
       "    <tr>\n",
       "      <th>996</th>\n",
       "      <td>80</td>\n",
       "      <td>52224</td>\n",
       "      <td>1468</td>\n",
       "      <td>186</td>\n",
       "      <td>UDP</td>\n",
       "    </tr>\n",
       "    <tr>\n",
       "      <th>997</th>\n",
       "      <td>443</td>\n",
       "      <td>34261</td>\n",
       "      <td>601</td>\n",
       "      <td>428</td>\n",
       "      <td>TCP</td>\n",
       "    </tr>\n",
       "    <tr>\n",
       "      <th>998</th>\n",
       "      <td>80</td>\n",
       "      <td>46834</td>\n",
       "      <td>807</td>\n",
       "      <td>247</td>\n",
       "      <td>UDP</td>\n",
       "    </tr>\n",
       "    <tr>\n",
       "      <th>999</th>\n",
       "      <td>8080</td>\n",
       "      <td>30714</td>\n",
       "      <td>906</td>\n",
       "      <td>128</td>\n",
       "      <td>UDP</td>\n",
       "    </tr>\n",
       "  </tbody>\n",
       "</table>\n",
       "<p>1000 rows × 5 columns</p>\n",
       "</div>"
      ],
      "text/plain": [
       "     src_port  dst_port  packet_size  duration_ms protocol\n",
       "0          22     23328         1362          106      TCP\n",
       "1          22     28080         1342          256      TCP\n",
       "2          80      5104         1383          179      TCP\n",
       "3         443     49468          712          418      UDP\n",
       "4         443     22124         1072          217      TCP\n",
       "..        ...       ...          ...          ...      ...\n",
       "995        80     39529          856          332      TCP\n",
       "996        80     52224         1468          186      UDP\n",
       "997       443     34261          601          428      TCP\n",
       "998        80     46834          807          247      UDP\n",
       "999      8080     30714          906          128      UDP\n",
       "\n",
       "[1000 rows x 5 columns]"
      ]
     },
     "metadata": {},
     "output_type": "display_data"
    }
   ],
   "source": [
    "with open(\"dataset/training_data.json\") as f:\n",
    "    raw_data = json.load(f)\n",
    "\n",
    "df = pd.DataFrame(raw_data)\n",
    "display(df)"
   ]
  },
  {
   "cell_type": "markdown",
   "id": "439e560b",
   "metadata": {},
   "source": [
    "### 🧼 Preprocessing Function\n",
    "\n",
    "Machine learning models like Isolation Forest require **numerical input only**. Any categorical variables, such as the `protocol` column (`TCP`, `UDP`), must be converted into numbers.\n",
    "\n",
    "We handle this with **one-hot encoding**, using `pd.get_dummies`.\n",
    "\n",
    "#### 🛠️ Preprocessing Steps:\n",
    "\n",
    "1. **Identify categorical columns**:\n",
    "   - In our case, the `protocol` column is categorical (`TCP`, `UDP`).\n",
    "\n",
    "2. **Use `pd.get_dummies`**:\n",
    "   - This creates a new binary column for each category.\n",
    "   - For instance:\n",
    "     ```\n",
    "     protocol\n",
    "     ---------\n",
    "     TCP   →   protocol_UDP = 0\n",
    "     UDP   →   protocol_UDP = 1\n",
    "     ```\n",
    "   - Setting `drop_first=True` prevents multicollinearity by dropping the first category (`TCP` here), as it can be inferred from the others.\n",
    "\n",
    "3. **Return a DataFrame with all numerical values**:\n",
    "   - This is ready for model input.\n",
    "\n",
    "> ✅ This preprocessing is essential to avoid errors during training and ensure the model can learn from categorical variables."
   ]
  },
  {
   "cell_type": "code",
   "execution_count": 5,
   "id": "aae1de67",
   "metadata": {
    "ExecuteTime": {
     "end_time": "2025-07-03T07:59:59.889703Z",
     "start_time": "2025-07-03T07:59:59.884367Z"
    }
   },
   "outputs": [],
   "source": [
    "def preprocess_data(df):\n",
    "    #TODO 1: Implement preprocessing steps\n",
    "\n",
    "    return np.array(df)"
   ]
  },
  {
   "cell_type": "markdown",
   "id": "7c5bf7fa",
   "metadata": {},
   "source": [
    "### 🤖 Train Isolation Forest\n",
    "\n",
    "The `IsolationForest` algorithm is an unsupervised model used to detect anomalies. It isolates observations by randomly selecting features and splitting values.\n",
    "\n",
    "- `n_estimators=100`: number of trees in the forest.\n",
    "- `contamination=0.01`: assumes 1% of the data is anomalous.\n",
    "- `random_state=42`: ensures reproducibility.\n",
    "\n",
    "The model is trained on the preprocessed numerical dataset."
   ]
  },
  {
   "cell_type": "code",
   "execution_count": 6,
   "id": "1226cc18",
   "metadata": {
    "ExecuteTime": {
     "end_time": "2025-07-03T08:00:01.546814Z",
     "start_time": "2025-07-03T08:00:01.480084Z"
    }
   },
   "outputs": [
    {
     "ename": "TypeError",
     "evalue": "IsolationForest.fit() missing 1 required positional argument: 'X'",
     "output_type": "error",
     "traceback": [
      "\u001b[1;31m---------------------------------------------------------------------------\u001b[0m",
      "\u001b[1;31mTypeError\u001b[0m                                 Traceback (most recent call last)",
      "Cell \u001b[1;32mIn[6], line 2\u001b[0m\n\u001b[0;32m      1\u001b[0m model \u001b[38;5;241m=\u001b[39m IsolationForest(contamination\u001b[38;5;241m=\u001b[39m\u001b[38;5;241m0.1\u001b[39m, random_state\u001b[38;5;241m=\u001b[39m\u001b[38;5;241m42\u001b[39m)\n\u001b[1;32m----> 2\u001b[0m \u001b[43mmodel\u001b[49m\u001b[38;5;241;43m.\u001b[39;49m\u001b[43mfit\u001b[49m\u001b[43m(\u001b[49m\u001b[43m)\u001b[49m\n",
      "File \u001b[1;32m~\\AppData\\Local\\Programs\\Python\\Python312\\Lib\\site-packages\\sklearn\\base.py:1473\u001b[0m, in \u001b[0;36m_fit_context.<locals>.decorator.<locals>.wrapper\u001b[1;34m(estimator, *args, **kwargs)\u001b[0m\n\u001b[0;32m   1466\u001b[0m     estimator\u001b[38;5;241m.\u001b[39m_validate_params()\n\u001b[0;32m   1468\u001b[0m \u001b[38;5;28;01mwith\u001b[39;00m config_context(\n\u001b[0;32m   1469\u001b[0m     skip_parameter_validation\u001b[38;5;241m=\u001b[39m(\n\u001b[0;32m   1470\u001b[0m         prefer_skip_nested_validation \u001b[38;5;129;01mor\u001b[39;00m global_skip_validation\n\u001b[0;32m   1471\u001b[0m     )\n\u001b[0;32m   1472\u001b[0m ):\n\u001b[1;32m-> 1473\u001b[0m     \u001b[38;5;28;01mreturn\u001b[39;00m \u001b[43mfit_method\u001b[49m\u001b[43m(\u001b[49m\u001b[43mestimator\u001b[49m\u001b[43m,\u001b[49m\u001b[43m \u001b[49m\u001b[38;5;241;43m*\u001b[39;49m\u001b[43margs\u001b[49m\u001b[43m,\u001b[49m\u001b[43m \u001b[49m\u001b[38;5;241;43m*\u001b[39;49m\u001b[38;5;241;43m*\u001b[39;49m\u001b[43mkwargs\u001b[49m\u001b[43m)\u001b[49m\n",
      "\u001b[1;31mTypeError\u001b[0m: IsolationForest.fit() missing 1 required positional argument: 'X'"
     ]
    }
   ],
   "source": [
    "model = IsolationForest(contamination=0.1, random_state=42)\n",
    "model.fit()"
   ]
  },
  {
   "cell_type": "markdown",
   "id": "b3d27677",
   "metadata": {},
   "source": [
    "### 💾 Save Trained Model\n",
    "\n",
    "Save the trained model using `joblib`, which allows for efficient serialization and deserialization. This saved model can be reused later for inference or deployment.\n"
   ]
  },
  {
   "cell_type": "code",
   "execution_count": null,
   "id": "1205b791",
   "metadata": {},
   "outputs": [],
   "source": [
    "joblib.dump(model, \"anomaly_model.joblib\")"
   ]
  },
  {
   "cell_type": "markdown",
   "id": "aca5c30c",
   "metadata": {},
   "source": [
    "# predict data"
   ]
  },
  {
   "cell_type": "code",
   "execution_count": null,
   "id": "50cd9507",
   "metadata": {},
   "outputs": [],
   "source": [
    "model.predict()"
   ]
  }
 ],
 "metadata": {
  "kernelspec": {
   "display_name": "Python 3 (ipykernel)",
   "language": "python",
   "name": "python3"
  },
  "language_info": {
   "codemirror_mode": {
    "name": "ipython",
    "version": 3
   },
   "file_extension": ".py",
   "mimetype": "text/x-python",
   "name": "python",
   "nbconvert_exporter": "python",
   "pygments_lexer": "ipython3",
   "version": "3.12.4"
  }
 },
 "nbformat": 4,
 "nbformat_minor": 5
}
